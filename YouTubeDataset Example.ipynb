{
 "cells": [
  {
   "cell_type": "markdown",
   "metadata": {},
   "source": [
    "# YouTubeDataset Examples\n"
   ]
  },
  {
   "cell_type": "code",
   "execution_count": 9,
   "metadata": {},
   "outputs": [],
   "source": [
    "import torch\n",
    "import torchvision.transforms as vTransforms\n",
    "\n",
    "import torchtext\n",
    "import torchtext.vocab\n",
    "import torchtext.data\n",
    "\n",
    "\n",
    "import numpy as np\n",
    "\n",
    "\n",
    "from YouTubeDataset import YouTubeDataset\n",
    "from YouTubeDataset import transforms as ytTransforms\n",
    "\n",
    "# YouTubeDataset requires a Google Cloud API Key with YouTube Data API V3 access to\n",
    "# download a dataset\n",
    "#\n",
    "# API Key from https://console.cloud.google.com/apis/credentials\n",
    "# \n",
    "\n",
    "from MYAPIKEY import API_KEY"
   ]
  },
  {
   "cell_type": "code",
   "execution_count": 2,
   "metadata": {},
   "outputs": [],
   "source": [
    "def show(o):\n",
    "    ds = dl = None\n",
    "    if isinstance(o, torch.utils.data.IterableDataset):\n",
    "        ds = dl = o\n",
    "\n",
    "    if isinstance(o, torch.utils.data.DataLoader):\n",
    "        dl = o\n",
    "        ds = dl.dataset\n",
    "    \n",
    "    if ds != None and dl != None:\n",
    "        print(ds.fields)\n",
    "        \n",
    "        for batch in dl:\n",
    "            for k, v in zip(ds.fields, batch):\n",
    "                s = np.shape(v)\n",
    "                if len(s) == 0:\n",
    "                    print(k,v)\n",
    "                else:\n",
    "                    print(k,s)\n",
    "            break"
   ]
  },
  {
   "cell_type": "markdown",
   "metadata": {},
   "source": [
    "## Default Dataset\n",
    "\n",
    "Video frames as images, timestamp\n"
   ]
  },
  {
   "cell_type": "code",
   "execution_count": 3,
   "metadata": {},
   "outputs": [
    {
     "name": "stderr",
     "output_type": "stream",
     "text": [
      "  9%|▊         | 4/46 [00:15<02:41,  3.85s/it]"
     ]
    },
    {
     "name": "stdout",
     "output_type": "stream",
     "text": [
      "pytube3 incompatibility, upgrade pytube3 to download: http://youtube.com/watch?v=E5E0Arr57YI Exception: KeyError, 'cipher'\n"
     ]
    },
    {
     "name": "stderr",
     "output_type": "stream",
     "text": [
      " 11%|█         | 5/46 [00:16<02:08,  3.14s/it]"
     ]
    },
    {
     "name": "stdout",
     "output_type": "stream",
     "text": [
      "pytube3 incompatibility, upgrade pytube3 to download: http://youtube.com/watch?v=wgl3nDpmXTQ Exception: KeyError, 'cipher'\n"
     ]
    },
    {
     "name": "stderr",
     "output_type": "stream",
     "text": [
      " 52%|█████▏    | 24/46 [01:25<01:24,  3.85s/it]"
     ]
    },
    {
     "name": "stdout",
     "output_type": "stream",
     "text": [
      "pytube3 incompatibility, upgrade pytube3 to download: http://youtube.com/watch?v=PAI8wBkxyw4 Exception: KeyError, 'cipher'\n"
     ]
    },
    {
     "name": "stderr",
     "output_type": "stream",
     "text": [
      " 54%|█████▍    | 25/46 [01:27<01:07,  3.23s/it]"
     ]
    },
    {
     "name": "stdout",
     "output_type": "stream",
     "text": [
      "pytube3 incompatibility, upgrade pytube3 to download: http://youtube.com/watch?v=G0FJHb6Cqn4 Exception: KeyError, 'cipher'\n"
     ]
    },
    {
     "name": "stderr",
     "output_type": "stream",
     "text": [
      " 65%|██████▌   | 30/46 [01:44<00:53,  3.33s/it]"
     ]
    },
    {
     "name": "stdout",
     "output_type": "stream",
     "text": [
      "pytube3 incompatibility, upgrade pytube3 to download: http://youtube.com/watch?v=y50B7DRNm70 Exception: KeyError, 'en'\n"
     ]
    },
    {
     "name": "stderr",
     "output_type": "stream",
     "text": [
      " 67%|██████▋   | 31/46 [01:46<00:43,  2.87s/it]"
     ]
    },
    {
     "name": "stdout",
     "output_type": "stream",
     "text": [
      "pytube3 incompatibility, upgrade pytube3 to download: http://youtube.com/watch?v=reQPwK774O0 Exception: KeyError, 'en'\n"
     ]
    },
    {
     "name": "stderr",
     "output_type": "stream",
     "text": [
      " 76%|███████▌  | 35/46 [01:58<00:31,  2.86s/it]"
     ]
    },
    {
     "name": "stdout",
     "output_type": "stream",
     "text": [
      "pytube3 incompatibility, upgrade pytube3 to download: http://youtube.com/watch?v=1BUJU3_ozaE Exception: KeyError, 'en'\n"
     ]
    },
    {
     "name": "stderr",
     "output_type": "stream",
     "text": [
      " 89%|████████▉ | 41/46 [02:18<00:14,  2.86s/it]"
     ]
    },
    {
     "name": "stdout",
     "output_type": "stream",
     "text": [
      "pytube3 incompatibility, upgrade pytube3 to download: http://youtube.com/watch?v=y50B7DRNm70 Exception: KeyError, 'en'\n"
     ]
    },
    {
     "name": "stderr",
     "output_type": "stream",
     "text": [
      " 91%|█████████▏| 42/46 [02:19<00:08,  2.17s/it]"
     ]
    },
    {
     "name": "stdout",
     "output_type": "stream",
     "text": [
      "pytube3 incompatibility, upgrade pytube3 to download: http://youtube.com/watch?v=itIZUupuHJ4 Exception: RegexMatchError, get_ytplayer_config: could not find match for config_patterns\n"
     ]
    },
    {
     "name": "stderr",
     "output_type": "stream",
     "text": [
      "100%|██████████| 46/46 [02:31<00:00,  3.23s/it]"
     ]
    },
    {
     "name": "stdout",
     "output_type": "stream",
     "text": [
      "VF_DATA (3, 360, 640)\n",
      "TIME 0.0\n"
     ]
    },
    {
     "name": "stderr",
     "output_type": "stream",
     "text": [
      "\n"
     ]
    }
   ],
   "source": [
    "from YouTubeDataset import YouTubeDataset\n",
    "\n",
    "ds0 = YouTubeDataset('data', 'SecretLocation', 'train', \n",
    "                    download=True,\n",
    "                    api_key=API_KEY,\n",
    "                    user_name='thesecretlocation',\n",
    "                    splits={'train':0.90, 'test':0.1})                  \n",
    "\n",
    "show(ds0)"
   ]
  },
  {
   "cell_type": "markdown",
   "metadata": {},
   "source": [
    "### With Dataloader\n"
   ]
  },
  {
   "cell_type": "code",
   "execution_count": 4,
   "metadata": {},
   "outputs": [
    {
     "name": "stdout",
     "output_type": "stream",
     "text": [
      "['VF_DATA', 'TIME']\n",
      "VF_DATA torch.Size([64, 3, 318, 640])\n",
      "TIME torch.Size([64])\n"
     ]
    }
   ],
   "source": [
    "ds0_loader = torch.utils.data.DataLoader(ds0, batch_size=64)\n",
    "\n",
    "show(ds0_loader)\n"
   ]
  },
  {
   "cell_type": "markdown",
   "metadata": {},
   "source": [
    "## Audio Training Dataset\n",
    "\n",
    "Training dataset for TTS, audio is aligned with text (uses captioning timestamps)\n",
    "\n",
    "timestamp, text, audio buffer"
   ]
  },
  {
   "cell_type": "code",
   "execution_count": 6,
   "metadata": {},
   "outputs": [
    {
     "name": "stdout",
     "output_type": "stream",
     "text": [
      "['TIME', 'CC_TEXT', 'AF_DATA']\n",
      "TIME 0.0\n",
      "CC_TEXT torch.Size([64, 300])\n",
      "AF_DATA torch.Size([1, 1110879])\n"
     ]
    }
   ],
   "source": [
    "#\n",
    "# Custom Embedding function to embed text strings with word vectors\n",
    "#\n",
    "class MyFastTextEmbedding():\n",
    "    def __init__(self, max_token_len=32, tokenizer=\"basic_english\", language=\"en\"):\n",
    "        \n",
    "        self.tokenizer = torchtext.data.get_tokenizer(tokenizer, language=language)\n",
    "        self.vocab = torchtext.vocab.FastText(language=language)\n",
    "        self.max_token_len = max_token_len\n",
    "\n",
    "    def __call__(self, text):\n",
    "        tokens = self.tokenizer(text)\n",
    "        vec = self.vocab.get_vecs_by_tokens(tokens, lower_case_backup=True)\n",
    "        pvec = torch.nn.functional.pad(vec, (0,0,self.max_token_len - vec.shape[0],0))\n",
    "        return pvec\n",
    "\n",
    "#\n",
    "# Audio Transform to zero pad audio segment\n",
    "#\n",
    "class MyAudioTransform():\n",
    "    def __init__(self, max_audio_len=0):\n",
    "        self.max_audio_len = max_audio_len\n",
    "        \n",
    "    def __call__(self, audio):\n",
    "        audio = torch.nn.functional.pad(audio, (self.max_audio_len - audio.shape[1],0))\n",
    "        return audio\n",
    "    \n",
    "ds1 = YouTubeDataset('data', 'SecretLocation', 'train', \n",
    "                    fields=[YouTubeDataset.F_TIME,  YouTubeDataset.F_CC_TEXT, YouTubeDataset.F_AF_DATA],\n",
    "                    key=YouTubeDataset.F_CC_TEXT)\n",
    "ds1.text_transform = MyFastTextEmbedding(max_token_len=64)\n",
    "ds1.audio_transform = MyAudioTransform(max_audio_len=int(ds1.max_text_dur * ds1.audio_sr))\n",
    "\n",
    "show(ds1)\n"
   ]
  },
  {
   "cell_type": "markdown",
   "metadata": {},
   "source": [
    "### With Dataloader"
   ]
  },
  {
   "cell_type": "code",
   "execution_count": null,
   "metadata": {},
   "outputs": [],
   "source": [
    "ds1_loader = torch.utils.data.DataLoader(ds1, batch_size=64)\n",
    "\n",
    "show(ds1_loader)"
   ]
  },
  {
   "cell_type": "markdown",
   "metadata": {},
   "source": [
    "## Video Captioning Dataset\n",
    "\n",
    "Training Dataset for video captioning\n",
    "\n",
    "timestamp, text, video_frames with video frames aligned to text and padded"
   ]
  },
  {
   "cell_type": "code",
   "execution_count": 7,
   "metadata": {},
   "outputs": [
    {
     "name": "stdout",
     "output_type": "stream",
     "text": [
      "['TIME', 'CC_TEXT', 'VF_DATA']\n",
      "TIME 0.06\n",
      "CC_TEXT what's up guys me I'm getting here back\n",
      "VF_DATA (3, 318, 640)\n"
     ]
    }
   ],
   "source": [
    "\n",
    "ds2 = YouTubeDataset('data', 'MeumGaming', 'train', \n",
    "                    fields=[YouTubeDataset.F_TIME,  YouTubeDataset.F_CC_TEXT, YouTubeDataset.F_VF_DATA],\n",
    "                    key=YouTubeDataset.F_CC_TEXT)                  \n",
    "\n",
    "show(ds2)"
   ]
  },
  {
   "cell_type": "markdown",
   "metadata": {},
   "source": [
    "## Video, Audio, Text Dataset\n",
    "\n",
    "timestamp, 5s video segment, audio, text aligned to video segment"
   ]
  },
  {
   "cell_type": "code",
   "execution_count": 5,
   "metadata": {},
   "outputs": [
    {
     "name": "stdout",
     "output_type": "stream",
     "text": [
      "Files already downloaded\n",
      "['TIME', 'VF_DATA', 'AF_DATA', 'CC_TEXT']\n",
      "TIME 0.0\n",
      "VF_DATA torch.Size([120, 3, 318, 640])\n",
      "AF_DATA torch.Size([2, 220500])\n",
      "CC_TEXT what's up guys me I'm getting here back\n"
     ]
    }
   ],
   "source": [
    "ds3 = YouTubeDataset('data', 'MeumGaming', 'train', \n",
    "                    fields=[YouTubeDataset.F_TIME,  YouTubeDataset.F_VF_DATA, YouTubeDataset.F_AF_DATA, YouTubeDataset.F_CC_TEXT ],\n",
    "                    key=YouTubeDataset.F_VF_DATA,\n",
    "                    video_cliplen=5*24)                  \n",
    "\n",
    "show(ds3)"
   ]
  }
 ],
 "metadata": {
  "kernelspec": {
   "display_name": "Python 3.6.10 64-bit ('inno-virt-char': conda)",
   "language": "python",
   "name": "python361064bitinnovirtcharconda4700936a07eb420098cb760ab8d536f1"
  },
  "language_info": {
   "codemirror_mode": {
    "name": "ipython",
    "version": 3
   },
   "file_extension": ".py",
   "mimetype": "text/x-python",
   "name": "python",
   "nbconvert_exporter": "python",
   "pygments_lexer": "ipython3",
   "version": "3.6.10"
  },
  "widgets": {
   "application/vnd.jupyter.widget-state+json": {
    "state": {},
    "version_major": 2,
    "version_minor": 0
   }
  }
 },
 "nbformat": 4,
 "nbformat_minor": 4
}
